{
 "cells": [
  {
   "cell_type": "code",
   "execution_count": 85,
   "metadata": {},
   "outputs": [],
   "source": [
    "# import packages\n",
    "import numpy as np\n",
    "import pandas as pd\n",
    "from pathlib import Path\n",
    "import matplotlib.pyplot as plt\n",
    "import seaborn as sns  \n",
    "import statsmodels.api as sm"
   ]
  },
  {
   "cell_type": "code",
   "execution_count": 86,
   "metadata": {},
   "outputs": [],
   "source": [
    "# Import data\n",
    "path = Path('/Users/thuymle/Dropbox/SIEPR Projects/Inflation and Election Swings')\n",
    "input = path / 'input'\n",
    "output = path / 'output'\n",
    "data = path / 'data'\n",
    "election_data = (data / 'election_data')\n",
    "inflation_data = (data / 'inflation_data')"
   ]
  },
  {
   "cell_type": "markdown",
   "metadata": {},
   "source": [
    "### Inflation Data"
   ]
  },
  {
   "cell_type": "code",
   "execution_count": 87,
   "metadata": {},
   "outputs": [
    {
     "name": "stderr",
     "output_type": "stream",
     "text": [
      "/var/folders/vd/gxvvvrrd6lb4t053j12d3y100000gn/T/ipykernel_18735/1576621564.py:6: FutureWarning: DataFrame.applymap has been deprecated. Use DataFrame.map instead.\n",
      "  msa_rpp_df = msa_rpp_df.applymap(lambda x: x.lower() if isinstance(x, str) else x)\n"
     ]
    }
   ],
   "source": [
    "# MSA Level Data for Inflation\n",
    "raw_bea_msa = pd.read_excel(inflation_data / 'raw/bea_msa_rpp.xlsx', skiprows=5)\n",
    "\n",
    "# Data Prep for merging\n",
    "msa_rpp_df = raw_bea_msa.copy() \n",
    "msa_rpp_df = msa_rpp_df.applymap(lambda x: x.lower() if isinstance(x, str) else x)\n",
    "\n",
    "# generate 2020-2022 cumulative inflation (percent change in RPP):\n",
    "msa_rpp_df['rpp_change_20_22'] = ((msa_rpp_df['2022'] - msa_rpp_df['2020']) / msa_rpp_df['2020'] ) * 100\n",
    "\n",
    "# Get the right MSA format\n",
    "msa_rpp_df['msa'] = msa_rpp_df['GeoName'].str.split(',').str[0]\n",
    "msa_rpp_df['state'] = msa_rpp_df['GeoName'].str.split(',').str[1].str.strip().str.split().str[0]\n",
    "msa_rpp_df['msa_short'] = msa_rpp_df['msa'].str.split('-').str[0]\n",
    "msa_rpp_df['state_short'] = msa_rpp_df['state'].str.split('-').str[0]\n",
    "\n",
    "#Get Categories\n",
    "recode_categories_dict = {\n",
    "    'rpps: all items': 'all items',\n",
    "    '  rpps: goods': 'goods',\n",
    "    '  rpps: services: housing': 'housing',\n",
    "    '  rpps: services: utilities': 'utilities',\n",
    "    '  rpps: services: other': 'other services'\n",
    "}\n",
    "msa_rpp_df['Description'] = msa_rpp_df['Description'].replace(recode_categories_dict)\n",
    "msa_rpp_df.drop(columns=['LineCode'], inplace=True)\n",
    "\n",
    "# re-name columns\n",
    "msa_rpp_df.rename(columns = {\n",
    "    'Description': 'category',\n",
    "    'GeoName': 'msa_full'\n",
    "    }, inplace=True)\n",
    "\n",
    "msa_rpp_df['msa'] = msa_rpp_df['msa_short'] + ', ' + msa_rpp_df['state_short']\n",
    "keep = ['msa', 'category', 'rpp_change_20_22', 'msa_full']\n",
    "msa_inflation_bea = msa_rpp_df[keep]\n",
    "# msa_rpp_df.to_csv(f'{inflation_data}/clean/bea_msa_inflation.csv', index=False)"
   ]
  },
  {
   "cell_type": "markdown",
   "metadata": {},
   "source": [
    "### Vote Swing and Housing Index"
   ]
  },
  {
   "cell_type": "code",
   "execution_count": 88,
   "metadata": {},
   "outputs": [
    {
     "name": "stdout",
     "output_type": "stream",
     "text": [
      "Index(['msa', 'zillow_index_2024', 'vote_swing'], dtype='object')\n"
     ]
    }
   ],
   "source": [
    "# Vote swing data prep\n",
    "file = output / \"vote_swing.csv\"\n",
    "df_election = pd.read_csv(file)\n",
    "df_election.drop(columns = 'msa', inplace = True)\n",
    "df_election.rename(columns = {'regionname': 'msa'}, inplace = True)\n",
    "\n",
    "\n",
    "# Zillow 2024 index prep\n",
    "zillow_rent = input / 'zillow_median_rent_raw.csv'\n",
    "df_zillow = pd.read_csv(zillow_rent)\n",
    "df_zillow.columns = df_zillow.columns.str.lower()\n",
    "df_zillow['regionname'] = df_zillow['regionname'].str.lower()\n",
    "\n",
    "keep = ['regionname', '10/31/2024']\n",
    "df_zillow = df_zillow[keep]\n",
    "df_zillow.rename(columns = {'regionname': 'msa'}, inplace = True)\n",
    "\n",
    "# Merge zillow and elecuib\n",
    "zillow_election = pd.merge(df_zillow, df_election, on = 'msa', how = 'outer')\n",
    "zillow_election.rename(columns = {'10/31/2024': 'zillow_index_2024'}, inplace = True)\n",
    "print(zillow_election.columns)"
   ]
  },
  {
   "cell_type": "markdown",
   "metadata": {},
   "source": [
    "## Creating Master Dataset"
   ]
  },
  {
   "cell_type": "code",
   "execution_count": 89,
   "metadata": {},
   "outputs": [],
   "source": [
    "# Merge\n",
    "regression_data = pd.merge(zillow_election, msa_inflation_bea, on = 'msa', how = 'outer')\n",
    "# Keep only all items rows\n",
    "regression_data = regression_data.loc[regression_data['category'] == 'goods']\n",
    "regression_data.drop(columns = {'msa_full', 'category'}, inplace = True)\n",
    "# regression_data.drop(columns = {'msa_full'}, inplace = True)\n",
    "\n",
    "# Drop missing values\n",
    "regression_data.dropna(inplace = True)"
   ]
  },
  {
   "cell_type": "code",
   "execution_count": 90,
   "metadata": {},
   "outputs": [],
   "source": [
    "# regression_data['interaction'] = regression_data['zillow_index_2024'] * regression_data['rpp_change_20_22']\n",
    "\n",
    "# def run_regression(group):\n",
    "#     X = group[['rpp_change_20_22', 'zillow_index_2024', 'interaction']]\n",
    "#     X = sm.add_constant(X)\n",
    "#     y = group['vote_swing']\n",
    "\n",
    "#     model = sm.OLS(y, X).fit()\n",
    "\n",
    "#     print(f\"Category: {group['category'].iloc[0]}\")\n",
    "#     print(model.summary())\n",
    "#     print(\"\\n\")\n",
    "\n",
    "# regression_data.groupby('category').apply(run_regression)"
   ]
  },
  {
   "cell_type": "code",
   "execution_count": 91,
   "metadata": {},
   "outputs": [
    {
     "name": "stdout",
     "output_type": "stream",
     "text": [
      "                            OLS Regression Results                            \n",
      "==============================================================================\n",
      "Dep. Variable:             vote_swing   R-squared:                       0.029\n",
      "Model:                            OLS   Adj. R-squared:                  0.020\n",
      "Method:                 Least Squares   F-statistic:                     3.381\n",
      "Date:                Fri, 06 Dec 2024   Prob (F-statistic):             0.0185\n",
      "Time:                        15:33:12   Log-Likelihood:                -710.07\n",
      "No. Observations:                 348   AIC:                             1428.\n",
      "Df Residuals:                     344   BIC:                             1444.\n",
      "Df Model:                           3                                         \n",
      "Covariance Type:            nonrobust                                         \n",
      "=====================================================================================\n",
      "                        coef    std err          t      P>|t|      [0.025      0.975]\n",
      "-------------------------------------------------------------------------------------\n",
      "const                 0.9672      0.402      2.409      0.017       0.177       1.757\n",
      "rpp_change_20_22     -0.0597      0.163     -0.366      0.714      -0.380       0.261\n",
      "zillow_index_2024     0.0007      0.000      2.898      0.004       0.000       0.001\n",
      "interaction        1.257e-05   8.95e-05      0.140      0.888      -0.000       0.000\n",
      "==============================================================================\n",
      "Omnibus:                      155.229   Durbin-Watson:                   1.790\n",
      "Prob(Omnibus):                  0.000   Jarque-Bera (JB):              985.853\n",
      "Skew:                           1.756   Prob(JB):                    8.41e-215\n",
      "Kurtosis:                      10.460   Cond. No.                     1.64e+04\n",
      "==============================================================================\n",
      "\n",
      "Notes:\n",
      "[1] Standard Errors assume that the covariance matrix of the errors is correctly specified.\n",
      "[2] The condition number is large, 1.64e+04. This might indicate that there are\n",
      "strong multicollinearity or other numerical problems.\n"
     ]
    }
   ],
   "source": [
    "# Cross-Sectional Regression with Inflation and House Price Index\n",
    "regression_data['interaction'] = regression_data['zillow_index_2024'] * regression_data['rpp_change_20_22']\n",
    "\n",
    "X = regression_data[['rpp_change_20_22', 'zillow_index_2024', 'interaction']]\n",
    "X = sm.add_constant(X)\n",
    "y = regression_data['vote_swing'] \n",
    "# Fit the OLS regression model\n",
    "model = sm.OLS(y, X).fit()\n",
    "\n",
    "# Display regression results\n",
    "print(model.summary())\n"
   ]
  },
  {
   "cell_type": "code",
   "execution_count": 92,
   "metadata": {},
   "outputs": [
    {
     "name": "stdout",
     "output_type": "stream",
     "text": [
      "                   Coefficient  Std. Error   P-value  95% CI Lower  \\\n",
      "Variable                                                             \n",
      "const                 0.967237    0.401566  0.016536      0.177404   \n",
      "rpp_change_20_22     -0.059681    0.162890  0.714298     -0.380066   \n",
      "zillow_index_2024     0.000709    0.000245  0.003992      0.000228   \n",
      "interaction           0.000013    0.000090  0.888474     -0.000164   \n",
      "\n",
      "                   95% CI Upper  \n",
      "Variable                         \n",
      "const                  1.757070  \n",
      "rpp_change_20_22       0.260703  \n",
      "zillow_index_2024      0.001191  \n",
      "interaction            0.000189  \n",
      "LaTeX table saved to regression_results.tex\n"
     ]
    }
   ],
   "source": [
    "X = regression_data[['rpp_change_20_22', 'zillow_index_2024', 'interaction']]\n",
    "X = sm.add_constant(X)\n",
    "y = regression_data['vote_swing']\n",
    "\n",
    "# Fit the OLS regression model\n",
    "model = sm.OLS(y, X).fit()\n",
    "\n",
    "# Extract results into a DataFrame\n",
    "results_df = pd.DataFrame({\n",
    "    'Coefficient': model.params,\n",
    "    'Std. Error': model.bse,\n",
    "    'P-value': model.pvalues,\n",
    "    '95% CI Lower': model.conf_int()[0],\n",
    "    '95% CI Upper': model.conf_int()[1]\n",
    "})\n",
    "results_df.index.name = 'Variable'\n",
    "\n",
    "# Print the DataFrame to verify\n",
    "print(results_df)\n",
    "\n",
    "# Convert the DataFrame to LaTeX\n",
    "latex_table = results_df.to_latex(\n",
    "    float_format=\"{:.4f}\".format,  # Format numerical values to 4 decimal places\n",
    "    caption=\"OLS Regression Results\",  # Add a caption\n",
    "    label=\"tab:regression_results\",    # Add a label for referencing in LaTeX\n",
    "    column_format=\"lcccc\",            # Align columns (e.g., left, center)\n",
    "    escape=False                      # Avoid escaping characters (e.g., if special symbols exist)\n",
    ")\n",
    "\n",
    "# Save the LaTeX table to a file\n",
    "with open(\"regression_results.tex\", \"w\") as f:\n",
    "    f.write(latex_table)\n",
    "\n",
    "print(\"LaTeX table saved to regression_results.tex\")\n",
    "\n"
   ]
  }
 ],
 "metadata": {
  "kernelspec": {
   "display_name": "base",
   "language": "python",
   "name": "python3"
  },
  "language_info": {
   "codemirror_mode": {
    "name": "ipython",
    "version": 3
   },
   "file_extension": ".py",
   "mimetype": "text/x-python",
   "name": "python",
   "nbconvert_exporter": "python",
   "pygments_lexer": "ipython3",
   "version": "3.12.4"
  }
 },
 "nbformat": 4,
 "nbformat_minor": 2
}
