{
 "cells": [
  {
   "cell_type": "code",
   "execution_count": 24,
   "metadata": {},
   "outputs": [],
   "source": [
    "# import packages\n",
    "import numpy as np\n",
    "import pandas as pd\n",
    "from pathlib import Path\n",
    "import requests"
   ]
  },
  {
   "cell_type": "code",
   "execution_count": 25,
   "metadata": {},
   "outputs": [],
   "source": [
    "# Import data\n",
    "path = Path('/Users/thuymle/Dropbox/SIEPR Projects/Inflation and Election Swings')\n",
    "input = path / 'input'\n",
    "output = path / 'output'\n",
    "data = path / 'data'\n",
    "election_data = (data / 'election_data')\n",
    "inflation_data = (data / 'inflation_data')"
   ]
  },
  {
   "cell_type": "markdown",
   "metadata": {},
   "source": [
    "# State Abbreviations"
   ]
  },
  {
   "cell_type": "code",
   "execution_count": 27,
   "metadata": {},
   "outputs": [
    {
     "name": "stdout",
     "output_type": "stream",
     "text": [
      "File downloaded successfully!\n"
     ]
    }
   ],
   "source": [
    "url = \"https://www2.census.gov/geo/docs/reference/state.txt\"\n",
    "response = requests.get(url)\n",
    "if response.status_code == 200:\n",
    "    with open(\"state.txt\", \"wb\") as file:\n",
    "        file.write(response.content)\n",
    "    print(\"File downloaded successfully!\")\n",
    "else:\n",
    "    print(f\"Failed to download the file. Status code: {response.status_code}\")\n",
    "\n",
    "columns = ['STATE', 'STUSAB', 'STATE_NAME', 'STATENS']\n",
    "states = pd.read_csv(\"state.txt\", sep=\"|\", names=columns, skiprows=1)"
   ]
  },
  {
   "cell_type": "code",
   "execution_count": 28,
   "metadata": {},
   "outputs": [],
   "source": [
    "# Handle data\n",
    "states.columns = states.columns.str.lower()\n",
    "\n",
    "states.rename(columns = {'stusab': 'state_abbr'}, inplace= True)\n",
    "keep = ['state_abbr', 'state_name']\n",
    "states = states[keep]\n",
    "states.rename(columns = {'state_name': 'state'}, inplace= True)\n",
    "states = states\n",
    "\n",
    "states = states.map(lambda x: x.lower() if isinstance(x, str) else x)\n",
    "\n",
    "# Save the DataFrame as a CSV\n",
    "states_output = output / \"state_abbr.csv\"\n",
    "states.to_csv(states_output, index=False)"
   ]
  },
  {
   "cell_type": "markdown",
   "metadata": {},
   "source": [
    "# State and Census Divisions"
   ]
  },
  {
   "cell_type": "code",
   "execution_count": null,
   "metadata": {},
   "outputs": [],
   "source": [
    "# Crosswalk between States and Divisions\n",
    "data = {\n",
    "    \"divisions\": [\n",
    "        \"New England\", \"New England\", \"New England\", \"New England\", \"New England\", \"New England\",\n",
    "        \"Middle Atlantic\", \"Middle Atlantic\", \"Middle Atlantic\",\n",
    "        \"South Atlantic\", \"South Atlantic\", \"South Atlantic\", \"South Atlantic\", \"South Atlantic\",\n",
    "        \"South Atlantic\", \"South Atlantic\", \"South Atlantic\", \"South Atlantic\",\n",
    "        \"East South Central\", \"East South Central\", \"East South Central\", \"East South Central\",\n",
    "        \"West South Central\", \"West South Central\", \"West South Central\", \"West South Central\",\n",
    "        \"East North Central\", \"East North Central\", \"East North Central\", \"East North Central\", \"East North Central\",\n",
    "        \"West North Central\", \"West North Central\", \"West North Central\", \"West North Central\", \n",
    "        \"West North Central\", \"West North Central\", \"West North Central\",\n",
    "        \"Mountain\", \"Mountain\", \"Mountain\", \"Mountain\", \"Mountain\", \"Mountain\", \"Mountain\", \"Mountain\",\n",
    "        \"Pacific\", \"Pacific\", \"Pacific\", \"Pacific\", \"Pacific\"\n",
    "    ],\n",
    "    \"state\": [\n",
    "        \"Connecticut\", \"Maine\", \"Massachusetts\", \"New Hampshire\", \"Rhode Island\", \"Vermont\",\n",
    "        \"New Jersey\", \"New York\", \"Pennsylvania\",\n",
    "        \"Delaware\", \"District of Columbia\", \"Florida\", \"Georgia\", \"Maryland\", \"North Carolina\",\n",
    "        \"South Carolina\", \"Virginia\", \"West Virginia\",\n",
    "        \"Alabama\", \"Kentucky\", \"Mississippi\", \"Tennessee\",\n",
    "        \"Arkansas\", \"Louisiana\", \"Oklahoma\", \"Texas\",\n",
    "        \"Illinois\", \"Indiana\", \"Michigan\", \"Ohio\", \"Wisconsin\",\n",
    "        \"Iowa\", \"Kansas\", \"Minnesota\", \"Missouri\", \"Nebraska\", \"North Dakota\", \"South Dakota\",\n",
    "        \"Arizona\", \"Colorado\", \"Idaho\", \"Montana\", \"Nevada\", \"New Mexico\", \"Utah\", \"Wyoming\",\n",
    "        \"Alaska\", \"California\", \"Hawaii\", \"Oregon\", \"Washington\"\n",
    "    ]\n",
    "}\n",
    "\n",
    "# Create a DataFrame\n",
    "df_division = pd.DataFrame(data)\n",
    "\n",
    "# Save the DataFrame as a CSV\n",
    "output_file_division = output / \"state_division_crosswalk.csv\"\n",
    "df_division.to_csv(output_file_division, index=False)\n"
   ]
  }
 ],
 "metadata": {
  "kernelspec": {
   "display_name": "base",
   "language": "python",
   "name": "python3"
  },
  "language_info": {
   "codemirror_mode": {
    "name": "ipython",
    "version": 3
   },
   "file_extension": ".py",
   "mimetype": "text/x-python",
   "name": "python",
   "nbconvert_exporter": "python",
   "pygments_lexer": "ipython3",
   "version": "3.12.4"
  }
 },
 "nbformat": 4,
 "nbformat_minor": 2
}
