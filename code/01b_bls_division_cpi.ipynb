{
 "cells": [
  {
   "cell_type": "code",
   "execution_count": 1,
   "metadata": {},
   "outputs": [],
   "source": [
    "import requests \n",
    "import json \n",
    "import pandas as pd\n",
    "from pathlib import Path"
   ]
  },
  {
   "cell_type": "code",
   "execution_count": 2,
   "metadata": {},
   "outputs": [],
   "source": [
    "# Import data\n",
    "home_dir = Path.home()\n",
    "work_dir = (home_dir / 'Desktop' / 'GitHub' / 'election_inflation_analysis')\n",
    "data = (work_dir / 'data')\n",
    "raw_data = (data / 'raw')\n",
    "code = Path.cwd()\n",
    "\n",
    "output = work_dir / 'output'\n",
    "save = data / 'clean'"
   ]
  },
  {
   "cell_type": "code",
   "execution_count": 3,
   "metadata": {},
   "outputs": [
    {
     "name": "stdout",
     "output_type": "stream",
     "text": [
      "                         category    divisions     series_id  year period  \\\n",
      "0                      motor fuel  New England  CUUR0110SETB  2024    M10   \n",
      "1                      motor fuel  New England  CUUR0110SETB  2024    M09   \n",
      "2                      motor fuel  New England  CUUR0110SETB  2024    M08   \n",
      "3                      motor fuel  New England  CUUR0110SETB  2024    M07   \n",
      "4                      motor fuel  New England  CUUR0110SETB  2024    M06   \n",
      "...                           ...          ...           ...   ...    ...   \n",
      "5034  education and communication      Pacific   CUUR0490SAE  2019    M05   \n",
      "5035  education and communication      Pacific   CUUR0490SAE  2019    M04   \n",
      "5036  education and communication      Pacific   CUUR0490SAE  2019    M03   \n",
      "5037  education and communication      Pacific   CUUR0490SAE  2019    M02   \n",
      "5038  education and communication      Pacific   CUUR0490SAE  2019    M01   \n",
      "\n",
      "     price_index  \n",
      "0        122.012  \n",
      "1        126.997  \n",
      "2        135.545  \n",
      "3        139.723  \n",
      "4        138.566  \n",
      "...          ...  \n",
      "5034     100.835  \n",
      "5035     100.792  \n",
      "5036     100.766  \n",
      "5037     100.950  \n",
      "5038     100.648  \n",
      "\n",
      "[5039 rows x 6 columns]\n"
     ]
    }
   ],
   "source": [
    "# we need to define a dictionary with the series IDs by city / series:\n",
    "categories = ['motor fuel', 'rent', 'food', 'apparel', 'transportation', 'medical care', 'recreation', 'education and communication']\n",
    "category_codes = ['ETB', 'EHA', 'AF11', 'AA', 'AT', 'AM', 'AR', 'AE']\n",
    "divisions = ['New England', 'Middle Atlantic', 'East North Central', \n",
    "             'West North Central', 'South Atlantic', 'East South Central', \n",
    "             'West South Central', 'Mountain', 'Pacific']\n",
    "division_codes = ['0110S', '0120S', '0230S',\n",
    "              '0240S', '0350S', '0360S',\n",
    "              '0370S', '0480S', '0490S']\n",
    "'''series_ids['New England'] = ['motor fuel': 'CUUR0110SETB',\n",
    "                        'housing': 'CUUR0110SEHA',\n",
    "                        'food': 'CUUR0110SAF11',\n",
    "                        'apparel': 'CUUR0110SAA',\n",
    "                        'transportation': 'CUUR0110SAT',\n",
    "                        'medical care': 'CUUR0110SAM',\n",
    "                        'recreation': 'CUUR0110SAR',\n",
    "                        'education and communication': 'CUUR0110SAE'' '''\n",
    "BLS_API_URL = 'https://api.bls.gov/publicAPI/v2/timeseries/data/'\n",
    "api_key = '66df55c828b84410b25b4658fdb6cfc4'\n",
    "data_frames = []\n",
    "for category, cat_code in zip(categories, category_codes):\n",
    "    for division, division_code in zip(divisions, division_codes):\n",
    "        series_id = f'CUUR{division_code}{cat_code}'\n",
    "        # Prepare the API request\n",
    "        headers = {'Content-type': 'application/json'}\n",
    "        request_data = {\n",
    "            'seriesid': [series_id],\n",
    "            'registrationkey': api_key,\n",
    "            'startyear': '2019',\n",
    "            'endyear': '2024'\n",
    "        }\n",
    "        # Fetch data from the API\n",
    "        response = requests.post(BLS_API_URL, json=request_data, headers=headers)\n",
    "        # Check for a valid response\n",
    "        if response.status_code == 200:\n",
    "            # Parse JSON response\n",
    "            data = response.json()\n",
    "            # Extract relevant data\n",
    "            series_data = data['Results']['series'][0]['data']\n",
    "            df = pd.DataFrame(series_data)\n",
    "            # Add category and city for context\n",
    "            df['category'] = category\n",
    "            df['divisions'] = division\n",
    "            df['series_id'] = series_id\n",
    "            # Keep only relevant columns and rename\n",
    "            if df.shape[0] > 0:\n",
    "                df = df[['category', 'divisions', 'series_id', 'year', 'period', 'value']]\n",
    "                df.rename(columns={'value': 'price_index'}, inplace=True)\n",
    "                # Append to the list of DataFrames\n",
    "                data_frames.append(df)\n",
    "            else:\n",
    "                print(f\"No data available for {series_id}\")\n",
    "        else:\n",
    "            print(f\"Failed to fetch data for {series_id}: {response.status_code}\")\n",
    "\n",
    "# Combine all DataFrames into a single panel DataFrame\n",
    "panel_df = pd.concat(data_frames, ignore_index=True)\n",
    "\n",
    "# Output the final DataFrame\n",
    "print(panel_df)\n"
   ]
  },
  {
   "cell_type": "code",
   "execution_count": 7,
   "metadata": {},
   "outputs": [],
   "source": [
    "# Save to CSV for further analysis\n",
    "file = raw_data / 'bls_panel_data_division.csv'\n",
    "panel_df.to_csv(file, index=False)"
   ]
  },
  {
   "cell_type": "markdown",
   "metadata": {},
   "source": []
  }
 ],
 "metadata": {
  "kernelspec": {
   "display_name": "base",
   "language": "python",
   "name": "python3"
  },
  "language_info": {
   "codemirror_mode": {
    "name": "ipython",
    "version": 3
   },
   "file_extension": ".py",
   "mimetype": "text/x-python",
   "name": "python",
   "nbconvert_exporter": "python",
   "pygments_lexer": "ipython3",
   "version": "3.12.4"
  }
 },
 "nbformat": 4,
 "nbformat_minor": 2
}
