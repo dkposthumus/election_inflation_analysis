{
 "cells": [
  {
   "cell_type": "code",
   "execution_count": 12,
   "metadata": {},
   "outputs": [],
   "source": [
    "# import packages\n",
    "import numpy as np\n",
    "import pandas as pd\n",
    "from pathlib import Path\n",
    "import matplotlib.pyplot as plt\n",
    "import seaborn as sns  \n",
    "import statsmodels.api as sm"
   ]
  },
  {
   "cell_type": "code",
   "execution_count": 13,
   "metadata": {},
   "outputs": [],
   "source": [
    "# Import data\n",
    "home_dir = Path.home()\n",
    "work_dir = (home_dir / 'Desktop' / 'GitHub' / 'election_inflation_analysis')\n",
    "data = (work_dir / 'data')\n",
    "raw_data = (data / 'raw')\n",
    "clean_data = (data / 'clean')\n",
    "code = Path.cwd()\n",
    "output = work_dir / 'output'"
   ]
  },
  {
   "cell_type": "markdown",
   "metadata": {},
   "source": [
    "### Inflation Data"
   ]
  },
  {
   "cell_type": "code",
   "execution_count": 14,
   "metadata": {},
   "outputs": [
    {
     "name": "stderr",
     "output_type": "stream",
     "text": [
      "/var/folders/vd/gxvvvrrd6lb4t053j12d3y100000gn/T/ipykernel_9300/2249195358.py:6: FutureWarning: DataFrame.applymap has been deprecated. Use DataFrame.map instead.\n",
      "  msa_rpp_df = msa_rpp_df.applymap(lambda x: x.lower() if isinstance(x, str) else x)\n"
     ]
    }
   ],
   "source": [
    "# MSA Level Data for Inflation\n",
    "raw_bea_msa = pd.read_excel(raw_data / 'bea_msa_rpp.xlsx', skiprows=5)\n",
    "\n",
    "# Data Prep for merging\n",
    "msa_rpp_df = raw_bea_msa.copy() \n",
    "msa_rpp_df = msa_rpp_df.applymap(lambda x: x.lower() if isinstance(x, str) else x)\n",
    "\n",
    "# generate 2020-2022 cumulative inflation (percent change in RPP):\n",
    "msa_rpp_df['rpp_change_20_22'] = ((msa_rpp_df['2022'] - msa_rpp_df['2020']) / msa_rpp_df['2020'] ) * 100\n",
    "\n",
    "# Get the right MSA format\n",
    "msa_rpp_df['msa'] = msa_rpp_df['GeoName'].str.split(',').str[0]\n",
    "msa_rpp_df['state'] = msa_rpp_df['GeoName'].str.split(',').str[1].str.strip().str.split().str[0]\n",
    "msa_rpp_df['msa_short'] = msa_rpp_df['msa'].str.split('-').str[0]\n",
    "msa_rpp_df['state_short'] = msa_rpp_df['state'].str.split('-').str[0]\n",
    "\n",
    "#Get Categories\n",
    "recode_categories_dict = {\n",
    "    'rpps: all items': 'all items',\n",
    "    '  rpps: goods': 'goods',\n",
    "    '  rpps: services: housing': 'housing',\n",
    "    '  rpps: services: utilities': 'utilities',\n",
    "    '  rpps: services: other': 'other services'\n",
    "}\n",
    "msa_rpp_df['Description'] = msa_rpp_df['Description'].replace(recode_categories_dict)\n",
    "msa_rpp_df.drop(columns=['LineCode'], inplace=True)\n",
    "\n",
    "# re-name columns\n",
    "msa_rpp_df.rename(columns = {\n",
    "    'Description': 'category',\n",
    "    'GeoName': 'msa_full'\n",
    "    }, inplace=True)\n",
    "\n",
    "msa_rpp_df['msa'] = msa_rpp_df['msa_short'] + ', ' + msa_rpp_df['state_short']\n",
    "keep = ['msa', 'category', 'rpp_change_20_22', 'msa_full']\n",
    "msa_inflation_bea = msa_rpp_df[keep]\n",
    "# msa_rpp_df.to_csv(f'{inflation_data}/clean/bea_msa_inflation.csv', index=False)"
   ]
  },
  {
   "cell_type": "markdown",
   "metadata": {},
   "source": [
    "### Vote Swing and Housing Index"
   ]
  },
  {
   "cell_type": "code",
   "execution_count": 15,
   "metadata": {},
   "outputs": [
    {
     "name": "stdout",
     "output_type": "stream",
     "text": [
      "Index(['msa', 'zillow_index_2024', 'vote_swing'], dtype='object')\n"
     ]
    }
   ],
   "source": [
    "# Vote swing data prep\n",
    "file = output / \"vote_swing.csv\"\n",
    "df_election = pd.read_csv(file)\n",
    "df_election.drop(columns = 'msa_short', inplace = True)\n",
    "df_election.rename(columns = {'regionname': 'msa'}, inplace = True)\n",
    "\n",
    "\n",
    "# Zillow 2024 index prep\n",
    "zillow_rent = raw_data / 'zillow_median_rent_raw.csv'\n",
    "df_zillow = pd.read_csv(zillow_rent)\n",
    "df_zillow.columns = df_zillow.columns.str.lower()\n",
    "df_zillow['regionname'] = df_zillow['regionname'].str.lower()\n",
    "\n",
    "keep = ['regionname', '10/31/2024']\n",
    "df_zillow = df_zillow[keep]\n",
    "df_zillow.rename(columns = {'regionname': 'msa'}, inplace = True)\n",
    "\n",
    "# Merge zillow and elecuib\n",
    "zillow_election = pd.merge(df_zillow, df_election, on = 'msa', how = 'outer')\n",
    "zillow_election.rename(columns = {'10/31/2024': 'zillow_index_2024'}, inplace = True)\n",
    "print(zillow_election.columns)"
   ]
  },
  {
   "cell_type": "markdown",
   "metadata": {},
   "source": [
    "## Creating Master Dataset"
   ]
  },
  {
   "cell_type": "code",
   "execution_count": null,
   "metadata": {},
   "outputs": [],
   "source": [
    "# Merge\n",
    "regression_data = pd.merge(zillow_election, msa_inflation_bea, on = 'msa', how = 'outer')\n",
    "# Keep only all items rows\n",
    "regression_data = regression_data.loc[regression_data['category'] == 'goods']\n",
    "regression_data.drop(columns = {'msa_full', 'category'}, inplace = True)\n",
    "\n",
    "# Drop missing values\n",
    "regression_data.dropna(inplace = True)"
   ]
  },
  {
   "cell_type": "code",
   "execution_count": 18,
   "metadata": {},
   "outputs": [
    {
     "name": "stdout",
     "output_type": "stream",
     "text": [
      "                            OLS Regression Results                            \n",
      "==============================================================================\n",
      "Dep. Variable:             vote_swing   R-squared:                       0.019\n",
      "Model:                            OLS   Adj. R-squared:                  0.010\n",
      "Method:                 Least Squares   F-statistic:                     1.983\n",
      "Date:                Mon, 09 Dec 2024   Prob (F-statistic):              0.117\n",
      "Time:                        17:10:59   Log-Likelihood:                -636.47\n",
      "No. Observations:                 308   AIC:                             1281.\n",
      "Df Residuals:                     304   BIC:                             1296.\n",
      "Df Model:                           3                                         \n",
      "Covariance Type:            nonrobust                                         \n",
      "=====================================================================================\n",
      "                        coef    std err          t      P>|t|      [0.025      0.975]\n",
      "-------------------------------------------------------------------------------------\n",
      "const                 1.1898      0.448      2.655      0.008       0.308       2.071\n",
      "rpp_change_20_22     -0.0631      0.174     -0.362      0.718      -0.406       0.280\n",
      "zillow_index_2024     0.0006      0.000      2.129      0.034    4.42e-05       0.001\n",
      "interaction        2.061e-05   9.59e-05      0.215      0.830      -0.000       0.000\n",
      "==============================================================================\n",
      "Omnibus:                      143.690   Durbin-Watson:                   1.793\n",
      "Prob(Omnibus):                  0.000   Jarque-Bera (JB):              851.881\n",
      "Skew:                           1.849   Prob(JB):                    1.04e-185\n",
      "Kurtosis:                      10.259   Cond. No.                     1.73e+04\n",
      "==============================================================================\n",
      "\n",
      "Notes:\n",
      "[1] Standard Errors assume that the covariance matrix of the errors is correctly specified.\n",
      "[2] The condition number is large, 1.73e+04. This might indicate that there are\n",
      "strong multicollinearity or other numerical problems.\n"
     ]
    }
   ],
   "source": [
    "# Cross-Sectional Regression with Inflation and House Price Index\n",
    "regression_data['interaction'] = regression_data['zillow_index_2024'] * regression_data['rpp_change_20_22']\n",
    "\n",
    "X = regression_data[['rpp_change_20_22', 'zillow_index_2024', 'interaction']]\n",
    "X = sm.add_constant(X)\n",
    "y = regression_data['vote_swing'] \n",
    "# Fit the OLS regression model\n",
    "model = sm.OLS(y, X).fit()\n",
    "\n",
    "# Display regression results\n",
    "print(model.summary())\n"
   ]
  }
 ],
 "metadata": {
  "kernelspec": {
   "display_name": "base",
   "language": "python",
   "name": "python3"
  },
  "language_info": {
   "codemirror_mode": {
    "name": "ipython",
    "version": 3
   },
   "file_extension": ".py",
   "mimetype": "text/x-python",
   "name": "python",
   "nbconvert_exporter": "python",
   "pygments_lexer": "ipython3",
   "version": "3.12.4"
  }
 },
 "nbformat": 4,
 "nbformat_minor": 2
}
